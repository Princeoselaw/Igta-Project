{
 "cells": [
  {
   "cell_type": "markdown",
   "id": "ae44dabe-d5de-4363-9200-a32d34e91c86",
   "metadata": {},
   "source": [
    "AUTOMATING EXCEL TASK USING PYTHON"
   ]
  },
  {
   "cell_type": "code",
   "execution_count": 36,
   "id": "f0c7ec83-8d78-4da7-85ed-0d931fc36db5",
   "metadata": {},
   "outputs": [],
   "source": [
    "import pandas as pd"
   ]
  },
  {
   "cell_type": "markdown",
   "id": "6daeab4d-ea33-4219-ac20-2aad4a9e5c77",
   "metadata": {},
   "source": [
    "Load Dataset"
   ]
  },
  {
   "cell_type": "code",
   "execution_count": 37,
   "id": "3e19cbe5-6c78-4960-b1ad-a0b49e295416",
   "metadata": {},
   "outputs": [
    {
     "data": {
      "text/html": [
       "<div>\n",
       "<style scoped>\n",
       "    .dataframe tbody tr th:only-of-type {\n",
       "        vertical-align: middle;\n",
       "    }\n",
       "\n",
       "    .dataframe tbody tr th {\n",
       "        vertical-align: top;\n",
       "    }\n",
       "\n",
       "    .dataframe thead th {\n",
       "        text-align: right;\n",
       "    }\n",
       "</style>\n",
       "<table border=\"1\" class=\"dataframe\">\n",
       "  <thead>\n",
       "    <tr style=\"text-align: right;\">\n",
       "      <th></th>\n",
       "      <th>Date</th>\n",
       "      <th>Customer ID</th>\n",
       "      <th>Region</th>\n",
       "      <th>Product</th>\n",
       "      <th>Support Rating</th>\n",
       "      <th>Product Rating</th>\n",
       "      <th>Comments</th>\n",
       "    </tr>\n",
       "  </thead>\n",
       "  <tbody>\n",
       "    <tr>\n",
       "      <th>0</th>\n",
       "      <td>2024-01-05</td>\n",
       "      <td>CUST001</td>\n",
       "      <td>North</td>\n",
       "      <td>Software A</td>\n",
       "      <td>4</td>\n",
       "      <td>5</td>\n",
       "      <td>Quick resolution</td>\n",
       "    </tr>\n",
       "    <tr>\n",
       "      <th>1</th>\n",
       "      <td>2024-01-07</td>\n",
       "      <td>CUST002</td>\n",
       "      <td>South</td>\n",
       "      <td>Software B</td>\n",
       "      <td>3</td>\n",
       "      <td>4</td>\n",
       "      <td>Some bugs found</td>\n",
       "    </tr>\n",
       "    <tr>\n",
       "      <th>2</th>\n",
       "      <td>2024-01-09</td>\n",
       "      <td>CUST003</td>\n",
       "      <td>East</td>\n",
       "      <td>Software C</td>\n",
       "      <td>5</td>\n",
       "      <td>5</td>\n",
       "      <td>Very satisfied</td>\n",
       "    </tr>\n",
       "    <tr>\n",
       "      <th>3</th>\n",
       "      <td>2024-02-01</td>\n",
       "      <td>CUST004</td>\n",
       "      <td>North</td>\n",
       "      <td>Software A</td>\n",
       "      <td>4</td>\n",
       "      <td>4</td>\n",
       "      <td>Support was helpful</td>\n",
       "    </tr>\n",
       "    <tr>\n",
       "      <th>4</th>\n",
       "      <td>2024-02-10</td>\n",
       "      <td>CUST005</td>\n",
       "      <td>South</td>\n",
       "      <td>Software B</td>\n",
       "      <td>2</td>\n",
       "      <td>3</td>\n",
       "      <td>Could be improved</td>\n",
       "    </tr>\n",
       "  </tbody>\n",
       "</table>\n",
       "</div>"
      ],
      "text/plain": [
       "         Date Customer ID Region     Product  Support Rating  Product Rating  \\\n",
       "0  2024-01-05     CUST001  North  Software A               4               5   \n",
       "1  2024-01-07     CUST002  South  Software B               3               4   \n",
       "2  2024-01-09     CUST003   East  Software C               5               5   \n",
       "3  2024-02-01     CUST004  North  Software A               4               4   \n",
       "4  2024-02-10     CUST005  South  Software B               2               3   \n",
       "\n",
       "              Comments  \n",
       "0     Quick resolution  \n",
       "1      Some bugs found  \n",
       "2       Very satisfied  \n",
       "3  Support was helpful  \n",
       "4    Could be improved  "
      ]
     },
     "execution_count": 37,
     "metadata": {},
     "output_type": "execute_result"
    }
   ],
   "source": [
    "data= pd.read_csv('customer_feedback_scores.csv')\n",
    "data.head()"
   ]
  },
  {
   "cell_type": "markdown",
   "id": "1adbc3bd-ff15-4b97-9f4e-91e75b601402",
   "metadata": {},
   "source": [
    "Grouping Average Rating by Product"
   ]
  },
  {
   "cell_type": "code",
   "execution_count": 38,
   "id": "167d2cb2-4c80-4a9e-8b25-4df58766247d",
   "metadata": {},
   "outputs": [
    {
     "data": {
      "text/html": [
       "<div>\n",
       "<style scoped>\n",
       "    .dataframe tbody tr th:only-of-type {\n",
       "        vertical-align: middle;\n",
       "    }\n",
       "\n",
       "    .dataframe tbody tr th {\n",
       "        vertical-align: top;\n",
       "    }\n",
       "\n",
       "    .dataframe thead th {\n",
       "        text-align: right;\n",
       "    }\n",
       "</style>\n",
       "<table border=\"1\" class=\"dataframe\">\n",
       "  <thead>\n",
       "    <tr style=\"text-align: right;\">\n",
       "      <th></th>\n",
       "      <th>Product</th>\n",
       "      <th>Support Rating</th>\n",
       "      <th>Product Rating</th>\n",
       "    </tr>\n",
       "  </thead>\n",
       "  <tbody>\n",
       "    <tr>\n",
       "      <th>0</th>\n",
       "      <td>Software A</td>\n",
       "      <td>4.0</td>\n",
       "      <td>4.6</td>\n",
       "    </tr>\n",
       "    <tr>\n",
       "      <th>1</th>\n",
       "      <td>Software B</td>\n",
       "      <td>3.0</td>\n",
       "      <td>3.6</td>\n",
       "    </tr>\n",
       "    <tr>\n",
       "      <th>2</th>\n",
       "      <td>Software C</td>\n",
       "      <td>4.8</td>\n",
       "      <td>4.6</td>\n",
       "    </tr>\n",
       "  </tbody>\n",
       "</table>\n",
       "</div>"
      ],
      "text/plain": [
       "      Product  Support Rating  Product Rating\n",
       "0  Software A             4.0             4.6\n",
       "1  Software B             3.0             3.6\n",
       "2  Software C             4.8             4.6"
      ]
     },
     "execution_count": 38,
     "metadata": {},
     "output_type": "execute_result"
    }
   ],
   "source": [
    "#Average rating automation\n",
    "avg_rating= data.groupby('Product')[['Support Rating','Product Rating']].mean().reset_index()\n",
    "avg_rating.head()"
   ]
  },
  {
   "cell_type": "code",
   "execution_count": 39,
   "id": "ba8da47d-8539-4f8a-8b69-52a811636221",
   "metadata": {},
   "outputs": [],
   "source": [
    "# create excel file for Avg_rating with xlsxWriter\n",
    "writer= pd.ExcelWriter('Feedback_Summary_chart.xlsx', engine= 'xlsxwriter')\n",
    "avg_rating.to_excel(writer,sheet_name= 'Feedback Summary', index=False)"
   ]
  },
  {
   "cell_type": "markdown",
   "id": "cdab4550-32e5-4d10-b394-0d43d45d4657",
   "metadata": {},
   "source": [
    "Create excel workbook and worksheet"
   ]
  },
  {
   "cell_type": "code",
   "execution_count": 40,
   "id": "f5d8a9bd-f470-4ddd-b136-a9c4c23239fe",
   "metadata": {},
   "outputs": [],
   "source": [
    "workbook= writer.book\n",
    "worksheet= writer.sheets['Feedback Summary']"
   ]
  },
  {
   "cell_type": "markdown",
   "id": "dde4aa4e-523c-4a4b-8e45-ee6843401776",
   "metadata": {},
   "source": [
    "Create Column Chart"
   ]
  },
  {
   "cell_type": "code",
   "execution_count": 41,
   "id": "6d475bdd-8912-4b83-9418-8def007b1911",
   "metadata": {},
   "outputs": [],
   "source": [
    "# Define chart\n",
    "chart = workbook.add_chart({'type':'column'})"
   ]
  },
  {
   "cell_type": "code",
   "execution_count": 42,
   "id": "b44a1fbe-28b4-43e6-8d67-211fa772b7d1",
   "metadata": {},
   "outputs": [],
   "source": [
    " # Product Rating\n",
    "chart.add_series({\n",
    "    'name':'Product Rating',\n",
    "    'categories': ['Feedback Summary',1, 0, len(avg_rating),0],   #x_axis\n",
    "    'values': ['Feedback Summary',1, 2, len(avg_rating),2]   #y_axis\n",
    "})\n",
    "\n",
    "chart.set_title({'name': 'Average Customer Rating'})\n",
    "chart.set_x_axis({'name': 'Product'})\n",
    "chart.set_y_axis({'name': 'Rating'})"
   ]
  },
  {
   "cell_type": "code",
   "execution_count": 43,
   "id": "d74997d9-11d3-4236-b652-c040f2053bd7",
   "metadata": {},
   "outputs": [],
   "source": [
    "# Support rating\n",
    "chart.add_series({\n",
    "    'name':'Support Rating',\n",
    "    'categories': ['Feedback Summary',1, 0, len(avg_rating),0],    # x_axis \n",
    "    'values': ['Feedback Summary',1, 1, len(avg_rating),1]     # y_axis\n",
    "})\n",
    "\n",
    "chart.set_title({'name':'Average Customer Rating'})\n",
    "chart.set_x_axis({'name':'Product'})\n",
    "chart.set_y_axis({'name':'Rating'})\n",
    "\n",
    "worksheet.insert_chart('F2', chart)\n",
    "\n",
    "writer.close()"
   ]
  }
 ],
 "metadata": {
  "kernelspec": {
   "display_name": "Python 3 (ipykernel)",
   "language": "python",
   "name": "python3"
  },
  "language_info": {
   "codemirror_mode": {
    "name": "ipython",
    "version": 3
   },
   "file_extension": ".py",
   "mimetype": "text/x-python",
   "name": "python",
   "nbconvert_exporter": "python",
   "pygments_lexer": "ipython3",
   "version": "3.13.2"
  }
 },
 "nbformat": 4,
 "nbformat_minor": 5
}
